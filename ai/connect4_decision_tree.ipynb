{
 "cells": [
  {
   "cell_type": "code",
   "execution_count": null,
   "id": "f59d42d8",
   "metadata": {},
   "outputs": [],
   "source": [
    "#Importando as bibliotecas necessárias\n",
    "import pandas as pd\n",
    "from sklearn.model_selection import train_test_split\n",
    "from id3 import ID3Tree\n",
    "from sklearn.metrics import classification_report\n",
    "import matplotlib.pyplot as plt\n",
    "%matplotlib inline\n",
    "import os\n"
   ]
  },
  {
   "cell_type": "code",
   "execution_count": null,
   "id": "0b690e7c",
   "metadata": {},
   "outputs": [],
   "source": [
    "# Carregar o novo dataset\n",
    "\n",
    "data = pd.read_csv(\"../data/connect4_dataset.csv\")\n",
    "print(data.head())\n",
    "print(data.info())\n",
    "\n",
    "# Separar características (X) e alvo (y)\n",
    "X = data.iloc[:, :-1].values\n",
    "y = data.iloc[:, -1].values\n",
    "\n",
    "# Dividir em treino e teste\n",
    "X_train, X_test, y_train, y_test = train_test_split(X, y, test_size=0.2, random_state=42)\n",
    "print(f'Tamanho do conjunto de treino: {len(X_train)}')\n",
    "print(f'Tamanho do conjunto de teste: {len(X_test)}')\n"
   ]
  },
  {
   "cell_type": "code",
   "execution_count": null,
   "id": "20db3917",
   "metadata": {},
   "outputs": [],
   "source": [
    "# Discretizando os valores para 'empty', 'player1', 'player2'\n",
    "def discretize_board(X):\n",
    "    return X.replace({0: 'empty', 1: 'player1', 2: 'player2'})\n",
    "\n",
    "# Aplicando a discretização\n",
    "X_train_df = discretize_board(X_train_df)\n",
    "X_test_df = discretize_board(X_test_df)\n",
    "\n",
    "print(\"Dados discretizados:\")\n",
    "print(X_train_df.head())\n"
   ]
  },
  {
   "cell_type": "code",
   "execution_count": null,
   "id": "43e3526d",
   "metadata": {},
   "outputs": [],
   "source": [
    "# Treinar a árvore com profundidade limitada\n",
    "id3_tree = ID3Tree(max_depth=10)  # Definindo profundidade máxima\n",
    "id3_tree.fit(X_train_df, y_train_series)\n",
    "\n",
    "# Previsão\n",
    "y_pred = id3_tree.predict(X_test_df)\n",
    "\n",
    "# Acurácia\n",
    "accuracy = (y_pred == y_test_series).mean() * 100\n",
    "print(f\"Acurácia da Árvore ID3 após ajustes: {accuracy:.2f}%\")\n"
   ]
  },
  {
   "cell_type": "code",
   "execution_count": null,
   "id": "357af97e",
   "metadata": {},
   "outputs": [],
   "source": [
    "# Converter para DataFrame para compatibilidade com ID3\n",
    "X_train_df = pd.DataFrame(X_train, columns=[f'cell_{i}' for i in range(42)])\n",
    "X_test_df = pd.DataFrame(X_test, columns=[f'cell_{i}' for i in range(42)])\n",
    "y_train_series = pd.Series(y_train)\n",
    "y_test_series = pd.Series(y_test)\n",
    "\n",
    "# Treinar a árvore\n",
    "id3_tree = ID3Tree()\n",
    "id3_tree.fit(X_train_df, y_train_series)\n",
    "\n",
    "# Previsão\n",
    "y_pred = id3_tree.predict(X_test_df)\n",
    "\n",
    "# Acurácia\n",
    "accuracy = (y_pred == y_test_series).mean() * 100\n",
    "print(f\"Acurácia da Árvore ID3: {accuracy:.2f}%\")\n"
   ]
  },
  {
   "cell_type": "code",
   "execution_count": null,
   "id": "61520d6d",
   "metadata": {},
   "outputs": [],
   "source": []
  }
 ],
 "metadata": {
  "kernelspec": {
   "display_name": "base",
   "language": "python",
   "name": "python3"
  },
  "language_info": {
   "codemirror_mode": {
    "name": "ipython",
    "version": 3
   },
   "file_extension": ".py",
   "mimetype": "text/x-python",
   "name": "python",
   "nbconvert_exporter": "python",
   "pygments_lexer": "ipython3",
   "version": "3.12.4"
  }
 },
 "nbformat": 4,
 "nbformat_minor": 5
}
