{
 "cells": [
  {
   "cell_type": "markdown",
   "id": "4e72f0a4-3f3e-44c2-81b6-0715d7b205c5",
   "metadata": {},
   "source": [
    "<h1>CONNECT 4</h1> \n",
    "\n",
    "Developed by Gustavo Valandro da Rocha, Marthina Oliveira de Castro, Yan de Oliveira Christiano Coelho"
   ]
  },
  {
   "cell_type": "markdown",
   "id": "3941ac47-fb60-4d4c-a89d-ea224a227901",
   "metadata": {},
   "source": [
    "<h2>LIBRARIES</h2>"
   ]
  },
  {
   "cell_type": "code",
   "execution_count": 5,
   "id": "2d9802fc-6b2a-4312-b57b-f7e4cc31c65f",
   "metadata": {},
   "outputs": [],
   "source": [
    "import sys\n",
    "import numpy as np\n",
    "import pandas as pd\n",
    "import time\n",
    "import contextlib\n",
    "import random\n",
    "import copy"
   ]
  },
  {
   "cell_type": "markdown",
   "id": "ad3e6078-fa3e-495c-a77c-784ee3a87ada",
   "metadata": {},
   "source": [
    "<h2> GAME'S LOGIC </h2>"
   ]
  },
  {
   "cell_type": "markdown",
   "id": "16c6d395-c36a-4401-a979-aeb438cee91d",
   "metadata": {},
   "source": [
    "<h3>global variables</h3>\n",
    "As variáveis globais usadas durante toda a execução do jogo são armazenadas em um arquivo constants.py.\n",
    "\n",
    "    Attributes:\n",
    "        rows (int): Número de linhas do tabuleiro (padrão: 6)\n",
    "        cols (int): Número de colunas do tabuleiro (padrão: 7)\n",
    "        board (list): Matriz que representa o tabuleiro\n",
    "        current_player (str): Jogador atual ('X' ou 'O')"
   ]
  },
  {
   "cell_type": "code",
   "execution_count": 6,
   "id": "815fa70d-9dbe-4498-8949-6e4602c64486",
   "metadata": {},
   "outputs": [],
   "source": [
    "HUMAN_PIECE = 1\n",
    "AI_PIECE = 2\n",
    "\n",
    "# Constants for the data matrix\n",
    "ROWS = 6\n",
    "COLUMNS = 7"
   ]
  },
  {
   "cell_type": "code",
   "execution_count": null,
   "id": "010fb8d7-7e9d-4a67-9055-9068187e60c8",
   "metadata": {},
   "outputs": [],
   "source": []
  }
 ],
 "metadata": {
  "kernelspec": {
   "display_name": "Python 3 (ipykernel)",
   "language": "python",
   "name": "python3"
  },
  "language_info": {
   "codemirror_mode": {
    "name": "ipython",
    "version": 3
   },
   "file_extension": ".py",
   "mimetype": "text/x-python",
   "name": "python",
   "nbconvert_exporter": "python",
   "pygments_lexer": "ipython3",
   "version": "3.13.1"
  }
 },
 "nbformat": 4,
 "nbformat_minor": 5
}
